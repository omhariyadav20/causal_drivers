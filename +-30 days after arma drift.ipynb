{
  "cells": [
    {
      "cell_type": "markdown",
      "metadata": {
        "id": "oSrqmyCNikKj"
      },
      "source": [
        "# note in this code we  have driver excel as casual which is 127 indicator and 14 sp 500 stock as effect how they are effected by world indicators"
      ]
    },
    {
      "cell_type": "code",
      "execution_count": null,
      "metadata": {
        "id": "jCFLPclCLBCC"
      },
      "outputs": [],
      "source": [
        "import pandas as pd\n",
        "import numpy as np\n",
        "import matplotlib.pyplot as plt\n",
        "from sklearn.decomposition import PCA\n",
        "from statsmodels.tsa.arima.model import ARIMA"
      ]
    },
    {
      "cell_type": "code",
      "execution_count": null,
      "metadata": {
        "id": "EjtZ14_nMwqD"
      },
      "outputs": [],
      "source": [
        "daily=pd.read_excel(r'/content/daily.xlsx')\n",
        "data_driver=pd.read_excel(r'/content/data_drivers_2008_full_cutcolumns.xlsx')\n",
        "sp500=pd.read_excel(r'/content/constituents_SPX_2008.xlsx')"
      ]
    },
    {
      "cell_type": "code",
      "execution_count": null,
      "metadata": {
        "id": "qcBZeBM9xQQy"
      },
      "outputs": [],
      "source": [
        "sp500.rename(columns={ \"MCDONALD'S CORP\": 'MCDONALDS CORP'}, inplace=True)"
      ]
    },
    {
      "cell_type": "code",
      "execution_count": null,
      "metadata": {
        "id": "XY3ujIFDM47D"
      },
      "outputs": [],
      "source": [
        "\n",
        "daily = daily.fillna(method='ffill')\n",
        "\n",
        "data_driver = data_driver.fillna(method='ffill')\n",
        "data_driver['Date'] = pd.to_datetime(data_driver['Date'], format='%Y%m%d')\n",
        "sp500 = sp500.fillna(method='ffill')\n",
        "sp500['Date'] = pd.to_datetime(sp500['Date'], format='%Y%m%d')"
      ]
    },
    {
      "cell_type": "code",
      "execution_count": null,
      "metadata": {
        "colab": {
          "base_uri": "https://localhost:8080/",
          "height": 236
        },
        "id": "W8T2g6lNM747",
        "outputId": "9079af73-565a-457d-f5c3-6194632268e4"
      },
      "outputs": [],
      "source": [
        "daily = daily.fillna(method='ffill')\n",
        "columns_to_drop = ['Unnamed: 0', 'Datetime', ]\n",
        "daily = daily.drop(columns=columns_to_drop)\n",
        "daily.head()"
      ]
    },
    {
      "cell_type": "code",
      "execution_count": null,
      "metadata": {
        "id": "atNLIZq-NyGg"
      },
      "outputs": [],
      "source": [
        "daily.set_index('Date', inplace=True)\n",
        "data_driver.set_index('Date', inplace=True)\n",
        "sp500.set_index('Date', inplace=True)"
      ]
    },
    {
      "cell_type": "code",
      "execution_count": null,
      "metadata": {
        "id": "5IXhGBK_xXJJ"
      },
      "outputs": [],
      "source": [
        "sp500=sp500[['APPLE INC','GOLDMAN SACHS GROUP INC', 'MCDONALDS CORP','SCHLUMBERGER LTD']]"
      ]
    },
    {
      "cell_type": "code",
      "execution_count": null,
      "metadata": {
        "colab": {
          "base_uri": "https://localhost:8080/"
        },
        "id": "dAAdIrMIRvUH",
        "outputId": "0b9770a5-94d9-4ed6-8a09-d2f948687ddb"
      },
      "outputs": [],
      "source": [
        "print(data_driver.shape)\n",
        "print(sp500.shape)\n"
      ]
    },
    {
      "cell_type": "code",
      "execution_count": null,
      "metadata": {
        "colab": {
          "base_uri": "https://localhost:8080/"
        },
        "id": "tHYhlqRRQlX2",
        "outputId": "3c7c932f-c423-4221-ea28-bba2e48f4401"
      },
      "outputs": [],
      "source": [
        "# Assuming you have identified columns with negative values in data_driver and sp500\n",
        "columns_with_negatives1 = data_driver.columns[data_driver.lt(0).any()]\n",
        "columns_with_negatives2 = sp500.columns[sp500.lt(0).any()]\n",
        "print(columns_with_negatives1)\n",
        "print(columns_with_negatives2)\n",
        "print(len(columns_with_negatives1))\n",
        "print(len(columns_with_negatives2))\n",
        "\n",
        "# Remove columns with negative values from data_driver\n",
        "data_driver = data_driver.drop(columns=columns_with_negatives1)\n",
        "\n",
        "# Remove columns with negative values from sp500\n",
        "sp500 = sp500.drop(columns=columns_with_negatives2)\n",
        "\n",
        "\n"
      ]
    },
    {
      "cell_type": "code",
      "execution_count": null,
      "metadata": {
        "colab": {
          "base_uri": "https://localhost:8080/",
          "height": 698
        },
        "id": "MlNfzhdhCNSd",
        "outputId": "2043eb9e-aa61-4c91-dea2-828204df2629"
      },
      "outputs": [],
      "source": [
        "# we only work on the data from 2014\n",
        "df = pd.merge(data_driver, sp500, on='Date')\n",
        "#df=df.tail(300)\n",
        "print(len(df))\n",
        "epsilon = 1e-8\n",
        "df = df.replace([np.inf, -np.inf], np.nan).fillna(method='ffill')\n",
        "df_after_2014 = df[df.index.year >= 2014]\n",
        "print(len(df_after_2014))\n",
        "df_after_2014=np.log(df_after_2014 ).diff().fillna(method='ffill')\n",
        "df_after_2014=df_after_2014.dropna()\n",
        "df_after_2014 = df_after_2014.drop(df_after_2014.index[-1])\n",
        "df_after_2014"
      ]
    },
    {
      "cell_type": "code",
      "execution_count": null,
      "metadata": {
        "colab": {
          "base_uri": "https://localhost:8080/",
          "height": 461
        },
        "id": "t95rvcXxYvU-",
        "outputId": "9e6a20b3-e408-48d2-b87f-694828928275"
      },
      "outputs": [],
      "source": [
        "plt.figure(figsize=(10, 6))\n",
        "df_after_2014.plot()\n",
        "plt.axhline(y=0.3, color='red', linestyle='--', label='Threshold Line')\n",
        "crossing_legends = [] \n",
        "for column in df_after_2014.columns:\n",
        "    crossing_points = df_after_2014[df_after_2014[column] > 0.3]\n",
        "    if not crossing_points.empty:\n",
        "        plt.scatter(crossing_points.index, crossing_points[column], marker='o', label=f'{column} Crossing')\n",
        "        crossing_legends.append(f'{column} Crossing')\n",
        "plt.xlabel('Date')\n",
        "plt.ylabel('Log Difference')\n",
        "plt.title('Stock Log Differences After 2014')\n",
        "plt.legend(crossing_legends)\n",
        "plt.show()\n"
      ]
    },
    {
      "cell_type": "code",
      "execution_count": null,
      "metadata": {
        "id": "4Wf-6lP44bPl"
      },
      "outputs": [],
      "source": [
        "df=df_after_2014.copy()"
      ]
    },
    {
      "cell_type": "code",
      "execution_count": null,
      "metadata": {
        "colab": {
          "base_uri": "https://localhost:8080/"
        },
        "id": "czUPFkMuJNsy",
        "outputId": "40f4133b-3484-4b3f-b1b1-fb28cfca6d14"
      },
      "outputs": [],
      "source": [
        "df1 = pd.DataFrame()\n",
        "for i in range(0,data_driver.shape[1]):\n",
        "    causal = df.iloc[:, i]\n",
        "\n",
        "    order_ar22 = (2, 0, 1)\n",
        "    model_ar22 = ARIMA(causal, order=order_ar22,)\n",
        "    results_ar22 = model_ar22.fit()\n",
        "    causal_returns = results_ar22.fittedvalues\n",
        "\n",
        "    # Append to df2 with a meaningful column name\n",
        "\n",
        "    col_name = df.columns[i]\n",
        "    df1[col_name] = causal_returns\n",
        "\n"
      ]
    },
    {
      "cell_type": "code",
      "execution_count": null,
      "metadata": {
        "colab": {
          "base_uri": "https://localhost:8080/"
        },
        "id": "w5u5mLxd0K9E",
        "outputId": "bad823dd-c4d7-4166-ebaf-4dd813478e00"
      },
      "outputs": [],
      "source": [
        "df2 = pd.DataFrame()\n",
        "num_columns = len(df.columns)\n",
        "for i in range(data_driver.shape[1], sp500.shape[1]+data_driver.shape[1]):\n",
        "    if i < num_columns:\n",
        "        effect = df.iloc[:, i]\n",
        "\n",
        "        half_length_effect = len(effect) // 2\n",
        "        first_half_effect = effect[:half_length_effect]\n",
        "        second_half_effect = effect[half_length_effect:]\n",
        "\n",
        "        order_ar11 = (2, 0, 1)\n",
        "        order_arma12 = (2, 0, 2)\n",
        "\n",
        "        model_ar11 = ARIMA(first_half_effect, order=order_ar11)\n",
        "        results_ar11 = model_ar11.fit()\n",
        "\n",
        "        model_arma12 = ARIMA(second_half_effect, order=order_arma12)\n",
        "        results_arma12 = model_arma12.fit()\n",
        "\n",
        "        effect_returns_arma = pd.concat([results_ar11.fittedvalues, results_arma12.fittedvalues])\n",
        "\n",
        "\n",
        "        col_name = df.columns[i]\n",
        "        df2[col_name] = effect_returns_arma\n",
        "    else:\n",
        "        print(f\"Index {i} is out of bounds for the DataFrame.\")\n"
      ]
    },
    {
      "cell_type": "markdown",
      "metadata": {
        "id": "tddPAhiG_2Qi"
      },
      "source": [
        "plt.plot(df2)\n"
      ]
    },
    {
      "cell_type": "code",
      "execution_count": null,
      "metadata": {
        "colab": {
          "base_uri": "https://localhost:8080/",
          "height": 499
        },
        "id": "lGc1OrdI-wQo",
        "outputId": "5f44477a-a30a-4f00-8569-aad794996529"
      },
      "outputs": [],
      "source": [
        "plt.plot(df2)"
      ]
    },
    {
      "cell_type": "code",
      "execution_count": null,
      "metadata": {
        "colab": {
          "base_uri": "https://localhost:8080/",
          "height": 718
        },
        "id": "-LzcPzQc_LjX",
        "outputId": "1697a39b-934c-4540-9b25-b91bb145b1b6"
      },
      "outputs": [],
      "source": [
        "df = pd.merge(df1, df2, on='Date')\n",
        "df = df.fillna(method='ffill')\n",
        "df\n"
      ]
    },
    {
      "cell_type": "code",
      "execution_count": null,
      "metadata": {
        "id": "PndLvs8eNHFi"
      },
      "outputs": [],
      "source": [
        "ce_df3=df.copy()\n",
        "ce_df3=ce_df3.dropna()"
      ]
    },
    {
      "cell_type": "code",
      "execution_count": null,
      "metadata": {
        "colab": {
          "base_uri": "https://localhost:8080/"
        },
        "id": "KNXaqbt8p1YT",
        "outputId": "4fd2a513-4926-4414-b40b-7360f2df4e32"
      },
      "outputs": [],
      "source": [
        "ce_df3.iloc[:,109]\n"
      ]
    },
    {
      "cell_type": "code",
      "execution_count": null,
      "metadata": {
        "colab": {
          "base_uri": "https://localhost:8080/"
        },
        "id": "BpS9LgK_HTw2",
        "outputId": "b2f145f8-cc63-4ed4-b7d3-d0be7a67ea7b"
      },
      "outputs": [],
      "source": [
        "df1.index[half_length_effect]"
      ]
    },
    {
      "cell_type": "code",
      "execution_count": null,
      "metadata": {
        "colab": {
          "base_uri": "https://localhost:8080/",
          "height": 356
        },
        "id": "1aVcjzZdH8Xg",
        "outputId": "9574efcc-8194-41c2-ce58-1379278de3cc"
      },
      "outputs": [],
      "source": [
        "change_day_for_arma_index = ce_df3.index[half_length_effect]\n",
        "k = 200\n",
        "lag = 5\n",
        "interval = 100\n",
        "\n",
        "for f in range(data_driver.shape[1], data_driver.shape[1] +sp500.shape[1]):\n",
        "    Data_res_all_columns = pd.DataFrame()\n",
        "    for col_index in range(0, data_driver.shape[1]):\n",
        "        Data_res = pd.DataFrame()\n",
        "        for i in range(k, ce_df3.shape[0]):\n",
        "            Data_k = ce_df3.iloc[i - interval:i, :]\n",
        "            Data_k = (Data_k - Data_k.mean()) / Data_k.std()\n",
        "            Date_ref = ce_df3.index[i]\n",
        "            V_values = []\n",
        "            for j in range(lag + 1):\n",
        "                X = Data_k.iloc[:, col_index].values.reshape(-1, 1)\n",
        "                Y = Data_k.iloc[:, f].values.reshape(-1, 1)\n",
        "                Data_pca = pd.DataFrame(np.column_stack((X, Y)))\n",
        "\n",
        "                Data_pca[1] = Data_pca[1].shift(periods=j)\n",
        "                Data_pca = Data_pca.replace([np.inf, -np.inf], np.nan)\n",
        "                Data_pca = Data_pca.fillna(0)\n",
        "\n",
        "                pca = PCA(n_components=2)\n",
        "                pca.fit(Data_pca)\n",
        "                eigenvalues = pca.explained_variance_\n",
        "                eigenvalue_ratio = eigenvalues[0] / (eigenvalues[0] + eigenvalues[1])\n",
        "                V_values.append(eigenvalue_ratio)\n",
        "\n",
        "            std_V_values = np.std(V_values)\n",
        "            col_name = ce_df3.columns[col_index]\n",
        "            Data_r = pd.DataFrame([[std_V_values]], index=[Date_ref], columns=[col_name])\n",
        "\n",
        "            Data_res = pd.concat([Data_res, Data_r])\n",
        "\n",
        "        Data_res_all_columns = pd.concat([Data_res_all_columns, Data_res], axis=1)\n",
        "\n",
        "\n",
        "   \n",
        "    Data_res_all_columns.to_excel(f\"{ce_df3.columns[f]}_60.xlsx\", index=True)\n"
      ]
    }
  ],
  "metadata": {
    "colab": {
      "provenance": []
    },
    "kernelspec": {
      "display_name": "Python 3",
      "name": "python3"
    },
    "language_info": {
      "name": "python",
      "version": "3.10.11"
    }
  },
  "nbformat": 4,
  "nbformat_minor": 0
}
